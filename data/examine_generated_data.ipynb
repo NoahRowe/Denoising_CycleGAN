{
 "cells": [
  {
   "cell_type": "code",
   "execution_count": 2,
   "id": "b2a87c91",
   "metadata": {},
   "outputs": [
    {
     "name": "stdout",
     "output_type": "stream",
     "text": [
      "Welcome to JupyROOT 6.22/08\n"
     ]
    },
    {
     "data": {
      "text/plain": [
       "0"
      ]
     },
     "execution_count": 2,
     "metadata": {},
     "output_type": "execute_result"
    }
   ],
   "source": [
    "import numpy as np\n",
    "import os\n",
    "from pathlib import Path\n",
    "import matplotlib.pyplot as plt\n",
    "import ROOT\n",
    "ROOT.gSystem.Load(\"/home/tye/quadis/build/lib/libquadis.so\")"
   ]
  },
  {
   "cell_type": "markdown",
   "id": "c4cf0e2b",
   "metadata": {},
   "source": [
    "## Checking the data generated (from prep_generate_data.py) look good"
   ]
  },
  {
   "cell_type": "code",
   "execution_count": 13,
   "id": "ae7976c8",
   "metadata": {},
   "outputs": [],
   "source": [
    "X=np.load('/home/tye/data/numpy/fake/data1002/train/X_noisy_library_pulse_r99.npy')\n",
    "y=np.load('/home/tye/data/numpy/fake/data1002/train/y_clean_library_pulse_r99.npy')"
   ]
  },
  {
   "cell_type": "code",
   "execution_count": 14,
   "id": "1cf202d2",
   "metadata": {},
   "outputs": [
    {
     "data": {
      "text/plain": [
       "(4096,)"
      ]
     },
     "execution_count": 14,
     "metadata": {},
     "output_type": "execute_result"
    }
   ],
   "source": [
    "X[0].shape"
   ]
  },
  {
   "cell_type": "code",
   "execution_count": 15,
   "id": "24fa19c9",
   "metadata": {},
   "outputs": [
    {
     "data": {
      "text/plain": [
       "1395"
      ]
     },
     "execution_count": 15,
     "metadata": {},
     "output_type": "execute_result"
    }
   ],
   "source": [
    "len(X)"
   ]
  },
  {
   "cell_type": "code",
   "execution_count": 17,
   "id": "9d959d95",
   "metadata": {},
   "outputs": [
    {
     "data": {
      "text/plain": [
       "(0.0, 4096.0)"
      ]
     },
     "execution_count": 17,
     "metadata": {},
     "output_type": "execute_result"
    },
    {
     "data": {
      "image/png": "[encoded data removed]",
      "text/plain": [
       "<Figure size 576x360 with 1 Axes>"
      ]
     },
     "metadata": {
      "needs_background": "light"
     },
     "output_type": "display_data"
    }
   ],
   "source": [
    "index = int( np.random.uniform(0, X.shape[0]) )\n",
    "plt.figure(figsize=(8,5))\n",
    "plt.plot(X[index], label='X')\n",
    "plt.plot(y[index], label='y')\n",
    "plt.legend()\n",
    "plt.xlim([0,4096])\n",
    "#plt.ylim([-0.5,0.5])"
   ]
  },
  {
   "cell_type": "code",
   "execution_count": null,
   "id": "a74e4d2c-57d5-45e8-9f6f-ae5d695ed77f",
   "metadata": {},
   "outputs": [],
   "source": []
  },
  {
   "cell_type": "code",
   "execution_count": 9,
   "id": "758fd353-d142-4fc4-a89c-e51d07d2aaf5",
   "metadata": {},
   "outputs": [],
   "source": [
    "i = 0\n",
    "X = np.load(f'/home/tye/data/numpy/fake/data1002/train/X_noisy_library_pulse_r{i}.npy')\n",
    "y = np.load(f'/home/tye/data/numpy/fake/data1002/train/y_clean_library_pulse_r{i}.npy')\n"
   ]
  },
  {
   "cell_type": "code",
   "execution_count": 10,
   "id": "baa30fbc-59ce-4fbd-b018-e22fd97bcfc2",
   "metadata": {
    "tags": []
   },
   "outputs": [
    {
     "data": {
      "text/plain": [
       "(1395, 4096)"
      ]
     },
     "execution_count": 10,
     "metadata": {},
     "output_type": "execute_result"
    }
   ],
   "source": [
    "X.shape"
   ]
  },
  {
   "cell_type": "code",
   "execution_count": 11,
   "id": "8797da42-a2b9-46c7-8b53-6d19b1e6f1d2",
   "metadata": {},
   "outputs": [
    {
     "data": {
      "text/plain": [
       "(1395, 4096)"
      ]
     },
     "execution_count": 11,
     "metadata": {},
     "output_type": "execute_result"
    }
   ],
   "source": [
    "y.shape"
   ]
  },
  {
   "cell_type": "code",
   "execution_count": null,
   "id": "a504f254-9513-4c7a-8121-7289cb29577a",
   "metadata": {},
   "outputs": [],
   "source": []
  },
  {
   "cell_type": "code",
   "execution_count": null,
   "id": "4d1660d1-2b30-45dc-a416-1cf39d73c11a",
   "metadata": {},
   "outputs": [],
   "source": []
  },
  {
   "cell_type": "code",
   "execution_count": null,
   "id": "5e048793",
   "metadata": {},
   "outputs": [],
   "source": []
  }
 ],
 "metadata": {
  "kernelspec": {
   "display_name": "Python 3",
   "language": "python",
   "name": "python3"
  },
  "language_info": {
   "codemirror_mode": {
    "name": "ipython",
    "version": 3
   },
   "file_extension": ".py",
   "mimetype": "text/x-python",
   "name": "python",
   "nbconvert_exporter": "python",
   "pygments_lexer": "ipython3",
   "version": "3.8.8"
  }
 },
 "nbformat": 4,
 "nbformat_minor": 5
}
